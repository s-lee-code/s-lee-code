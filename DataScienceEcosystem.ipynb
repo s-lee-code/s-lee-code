{
 "cells": [
  {
   "cell_type": "markdown",
   "id": "8c2cfec0-f6a2-4ce7-a81a-e2c02cf8684d",
   "metadata": {},
   "source": [
    "# Data Science Tools and Ecosystem"
   ]
  },
  {
   "cell_type": "markdown",
   "id": "9e3dca1f-b726-4840-8899-9cb45834e590",
   "metadata": {},
   "source": [
    "In this notebook, I will summarize the tools and ecosystem of data science as presented in the IBM Coursera course, \"Tools for Data Science.\""
   ]
  },
  {
   "cell_type": "markdown",
   "id": "6306276f-a228-4105-aa48-9b6bfb58a0b0",
   "metadata": {},
   "source": [
    "Among the popular coding languages used in data science there are:\n",
    "1. Python\n",
    "2. R\n",
    "3. SQL\n",
    "4. Java\n",
    "5. Julia\n",
    "6. Scala\n",
    "7. C#/C++\n",
    "8. MATLAB\n",
    "9. Does Excel count? More of a tool than a language. "
   ]
  },
  {
   "cell_type": "markdown",
   "id": "6dec7c68-2ff6-482c-af24-bcff50a19f10",
   "metadata": {},
   "source": [
    "Data Science requires the use of libraries, which in this context doesn't mean books, but pre written code that is used to optimize tasks. Some common libraries just in Python include:\n",
    "1. MatPlotLib\n",
    "2. Pandas\n",
    "3. NumPy\n",
    "4. Scikit-learn\n",
    "5. Seaborn\n",
    "6. TensorFlow\n",
    "7. Keras\n",
    "8. Plotly"
   ]
  },
  {
   "cell_type": "markdown",
   "id": "85176486-7597-487b-ac92-c47e4a1efe8f",
   "metadata": {},
   "source": [
    "|Data Science Tools|\n",
    "--------------------\n",
    "|Weka|\n",
    "|Hadoop|\n",
    "|Apache Spark|"
   ]
  },
  {
   "cell_type": "markdown",
   "id": "9abaa3ac-e6c3-403d-ac03-6eb51c4f1ca0",
   "metadata": {},
   "source": [
    "### Below are a few examples of evaluating arithmetic expressions in Python"
   ]
  },
  {
   "cell_type": "code",
   "execution_count": 4,
   "id": "dfc270bd-fc6b-41a5-9bac-54d5e8a8f6d0",
   "metadata": {},
   "outputs": [
    {
     "name": "stdout",
     "output_type": "stream",
     "text": [
      "17\n"
     ]
    }
   ],
   "source": [
    "#Multiplying and then adding integers\n",
    "x = (3 * 4) + 5\n",
    "print (x)"
   ]
  },
  {
   "cell_type": "code",
   "execution_count": 8,
   "id": "f3d177c5-58aa-41da-a4d8-fad29a5951f4",
   "metadata": {},
   "outputs": [
    {
     "name": "stdout",
     "output_type": "stream",
     "text": [
      "3.3333333333333335\n"
     ]
    }
   ],
   "source": [
    "#division, in this case as a way to convert 200 minutes into hours\n",
    "hours = 200 / 60\n",
    "print (hours)"
   ]
  },
  {
   "cell_type": "markdown",
   "id": "acb4307a-aed0-40e8-bd0d-240868a09194",
   "metadata": {},
   "source": [
    "**Objectives:**\n",
    "* Popular coding languages\n",
    "* Data Sceince Libraries\n",
    "* Data Science Tools\n",
    "* Arithmetic examples"
   ]
  },
  {
   "cell_type": "markdown",
   "id": "01c6e3ab-778d-40bc-a9b8-a3de0a4157d6",
   "metadata": {},
   "source": [
    "## Author\n",
    "S. Lee"
   ]
  },
  {
   "cell_type": "code",
   "execution_count": null,
   "id": "0bf40efd-8fcb-4ee4-9dff-be6acf643d29",
   "metadata": {},
   "outputs": [],
   "source": []
  }
 ],
 "metadata": {
  "kernelspec": {
   "display_name": "anaconda-2024.02-py310",
   "language": "python",
   "name": "conda-env-anaconda-2024.02-py310-py"
  },
  "language_info": {
   "codemirror_mode": {
    "name": "ipython",
    "version": 3
   },
   "file_extension": ".py",
   "mimetype": "text/x-python",
   "name": "python",
   "nbconvert_exporter": "python",
   "pygments_lexer": "ipython3",
   "version": "3.10.14"
  }
 },
 "nbformat": 4,
 "nbformat_minor": 5
}
